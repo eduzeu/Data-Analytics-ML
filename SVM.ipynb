{
 "cells": [
  {
   "cell_type": "code",
   "execution_count": 1,
   "metadata": {},
   "outputs": [],
   "source": [
    "# a. COMPLETE SVM CLASS\n",
    "\n",
    "import numpy as np\n",
    "\n",
    "class SVM:\n",
    "    def __init__(self, learning_rate=1e-3, lambda_param=1e-2, n_iters=1000):\n",
    "        self.lr = learning_rate\n",
    "        self.lambda_param = lambda_param\n",
    "        self.n_iters = n_iters\n",
    "        self.w = None\n",
    "        self.b = None\n",
    "\n",
    "    def _init_weights_bias(self, X):\n",
    "        n_features = X.shape[1]\n",
    "        self.w = np.zeros(n_features)\n",
    "        self.b = 0\n",
    "\n",
    "    def _get_cls_map(self, y):\n",
    "        return np.where(y <= 0, -1, 1)\n",
    "\n",
    "    def _satisfy_constraint(self, x, idx, y):\n",
    "        return y[idx] * (np.dot(x, self.w) + self.b) >= 1\n",
    "\n",
    "    def _get_gradients(self, x, y, idx):\n",
    "        dw = 2 * self.lambda_param * self.w  # Initialize with regularization term\n",
    "        db = 0\n",
    "\n",
    "        if not self._satisfy_constraint(x, idx, y):\n",
    "            dw += -y[idx] * x\n",
    "            db = -y[idx]\n",
    "\n",
    "        return dw, db\n",
    "\n",
    "    def _update_weights_bias(self, dw, db):\n",
    "        self.w -= self.lr * dw\n",
    "        self.b -= self.lr * db\n",
    "\n",
    "    def fit(self, X, y):\n",
    "        self._init_weights_bias(X)\n",
    "        y = self._get_cls_map(y)\n",
    "        for _ in range(self.n_iters):\n",
    "            for i, x in enumerate(X):\n",
    "                dw, db = self._get_gradients(x, y, i)\n",
    "                self._update_weights_bias(dw, db)\n",
    "\n",
    "    def predict(self, X):\n",
    "        return np.where(np.dot(X, self.w) + self.b >= 0, 1, -1)\n"
   ]
  },
  {
   "cell_type": "code",
   "execution_count": 7,
   "metadata": {},
   "outputs": [
    {
     "name": "stdout",
     "output_type": "stream",
     "text": [
      "Accuracy: 0.5\n"
     ]
    }
   ],
   "source": [
    "#b. report accuracy \n",
    "import numpy as np\n",
    "from sklearn.datasets import make_moons\n",
    "X, y = make_moons(n_samples=200, noise=0.1, random_state=1)\n",
    "\n",
    "# Training the SVM model\n",
    "svm = SVM()\n",
    "svm.fit(X, y)\n",
    "\n",
    "predictions = svm.predict(X)\n",
    "\n",
    "# Calculating accuracy\n",
    "accuracy = np.mean(predictions == y)\n",
    "print(\"Accuracy:\", accuracy)"
   ]
  },
  {
   "cell_type": "code",
   "execution_count": 3,
   "metadata": {},
   "outputs": [
    {
     "name": "stdout",
     "output_type": "stream",
     "text": [
      "Accuracy: 0.5\n"
     ]
    }
   ],
   "source": [
    "#c. poylnomial kernel \n",
    "\n",
    "import numpy as np\n",
    "from sklearn.datasets import make_moons\n",
    "from sklearn.metrics import accuracy_score\n",
    "\n",
    "class SVM:\n",
    "    def __init__(self, learning_rate=1e-3, lambda_param=1e-2, n_iters=1000):\n",
    "        self.lr = learning_rate\n",
    "        self.lambda_param = lambda_param\n",
    "        self.n_iters = n_iters\n",
    "        self.alpha = None\n",
    "        self.b = None\n",
    "\n",
    "    def _polynomial_kernel(self, X):\n",
    "        return (1 + np.dot(X, X.T)) ** 3 \n",
    "\n",
    "    def fit(self, X, y):\n",
    "        y = np.where(y <= 0, -1, 1)\n",
    "        X_poly = self._polynomial_kernel(X) \n",
    "        n_samples = X_poly.shape[0]\n",
    "        self.alpha = np.zeros(n_samples)\n",
    "        self.b = 0  # Initializing bias term\n",
    "\n",
    "        for _ in range(self.n_iters):\n",
    "            for i in range(n_samples):\n",
    "                prediction = np.dot(self.alpha * y, X_poly[i]) + self.b\n",
    "                if y[i] * prediction <= 0:\n",
    "                    self.alpha[i] += self.lr\n",
    "                    self.b += y[i]\n",
    "\n",
    "    def predict(self, X):\n",
    "        X_poly = self._polynomial_kernel(X)\n",
    "        return np.sign(np.dot(self.alpha * y, X_poly.T) + self.b)\n",
    "\n",
    "X, y = make_moons(n_samples=200, noise=0.1, random_state=1)\n",
    "\n",
    "# Fitting the SVM model with polynomial kernel\n",
    "svm = SVM()\n",
    "svm.fit(X, y)\n",
    "\n",
    "predictions = svm.predict(X)\n",
    "\n",
    "accuracy = accuracy_score(y, predictions)\n",
    "print(\"Accuracy:\", accuracy)\n"
   ]
  },
  {
   "cell_type": "code",
   "execution_count": 11,
   "metadata": {},
   "outputs": [
    {
     "name": "stdout",
     "output_type": "stream",
     "text": [
      "Validation Accuracy: 0.5\n"
     ]
    }
   ],
   "source": [
    "#d generate validation set \n",
    "import numpy as np\n",
    "from sklearn.datasets import make_moons\n",
    "from sklearn.metrics import accuracy_score\n",
    "\n",
    "class SVM:\n",
    "    def __init__(self, learning_rate=1e-3, lambda_param=1e-2, n_iters=1000):\n",
    "        self.lr = learning_rate\n",
    "        self.lambda_param = lambda_param\n",
    "        self.n_iters = n_iters\n",
    "        self.alpha = None\n",
    "        self.b = None\n",
    "\n",
    "    def _polynomial_kernel(self, X):\n",
    "        return (1 + np.dot(X, X.T)) ** 3  # Polynomial kernel of degree 3\n",
    "\n",
    "    def fit(self, X, y):\n",
    "        y = np.where(y <= 0, -1, 1)\n",
    "        X_poly = self._polynomial_kernel(X)  # Applying the polynomial kernel\n",
    "        n_samples = X_poly.shape[0]\n",
    "        self.alpha = np.zeros(n_samples)\n",
    "        self.b = 0 \n",
    "\n",
    "        for _ in range(self.n_iters):\n",
    "            for i in range(n_samples):\n",
    "                prediction = np.dot(self.alpha * y, X_poly[i]) + self.b\n",
    "                if y[i] * prediction <= 0:\n",
    "                    self.alpha[i] += self.lr\n",
    "                    self.b += y[i]\n",
    "\n",
    "    def predict(self, X):\n",
    "        X_poly = self._polynomial_kernel(X)\n",
    "        predictions = np.zeros(X_poly.shape[0])\n",
    "        for i in range(X_poly.shape[0]):\n",
    "            prediction = np.sum(self.alpha * self._polynomial_kernel(X[i, :])) + self.b\n",
    "            predictions[i] = np.sign(prediction)\n",
    "        return predictions\n",
    "\n",
    "# Generating the validation set\n",
    "X_v, y_v = make_moons(n_samples=50, noise=0.1, random_state=3)\n",
    "\n",
    "# Fitting the SVM model with the polynomial kernel\n",
    "svm = SVM()\n",
    "svm.fit(X, y)\n",
    "\n",
    "predictions = svm.predict(X_v)\n",
    "\n",
    "accuracy = accuracy_score(y_v, predictions)\n",
    "print(\"Validation Accuracy:\", accuracy)\n"
   ]
  }
 ],
 "metadata": {
  "kernelspec": {
   "display_name": "base",
   "language": "python",
   "name": "python3"
  },
  "language_info": {
   "codemirror_mode": {
    "name": "ipython",
    "version": 3
   },
   "file_extension": ".py",
   "mimetype": "text/x-python",
   "name": "python",
   "nbconvert_exporter": "python",
   "pygments_lexer": "ipython3",
   "version": "3.11.3"
  }
 },
 "nbformat": 4,
 "nbformat_minor": 2
}
