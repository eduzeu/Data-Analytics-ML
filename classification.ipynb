{
 "cells": [
  {
   "cell_type": "markdown",
   "metadata": {},
   "source": [
    "<h1> Eduardo Hernandez | CS-559 HW3 </h1>"
   ]
  },
  {
   "cell_type": "code",
   "execution_count": 37,
   "metadata": {},
   "outputs": [],
   "source": [
    "#1 b use code to generate data\n",
    "from sklearn import datasets \n",
    "X, y = datasets.make_blobs(n_samples = 200, n_features= 4, centers = 2, cluster_std= 2, random_state=100)\n",
    "\n",
    "\n"
   ]
  },
  {
   "cell_type": "code",
   "execution_count": 38,
   "metadata": {},
   "outputs": [
    {
     "name": "stdout",
     "output_type": "stream",
     "text": [
      "Weight vector:  [[-0.82630038 -0.11536107  0.53817081 -0.11954787]]\n"
     ]
    }
   ],
   "source": [
    "#use sklearn to get weight vector \n",
    "from sklearn.discriminant_analysis import LinearDiscriminantAnalysis\n",
    "import numpy as np\n",
    "lda = LinearDiscriminantAnalysis()\n",
    "\n",
    "lda.fit(X,y)\n",
    "\n",
    "w = lda.coef_\n",
    "\n",
    "# Normalize w vector to unit length \n",
    "w /= np.linalg.norm(w)\n",
    "\n",
    "print(\"Weight vector: \", w)"
   ]
  },
  {
   "cell_type": "code",
   "execution_count": 39,
   "metadata": {},
   "outputs": [
    {
     "name": "stdout",
     "output_type": "stream",
     "text": [
      "Direction of w vector from corrected Equation 1:\n",
      "[ 0.82630038  0.11536107 -0.53817081  0.11954787]\n"
     ]
    }
   ],
   "source": [
    "import numpy as np\n",
    "\n",
    "\n",
    "#since we are working with two classes, we can use numpy to perform a calculation that will work for only 2 classes\n",
    "\n",
    "m1 = np.mean(X[y == 0], axis=0)  # Class 0\n",
    "m2 = np.mean(X[y == 1], axis=0)  \n",
    "\n",
    "# Calculate the number of samples in each class \n",
    "N1 = np.sum(y == 0)\n",
    "N2 = np.sum(y == 1)\n",
    "\n",
    "N = N1 + N2\n",
    "\n",
    "# Calculate SW \n",
    "X0 = X[y == 0]\n",
    "X1 = X[y == 1]\n",
    "SW = (np.dot((X0 - m1).T, X0 - m1) + np.dot((X1 - m2).T, X1 - m2))\n",
    "\n",
    "# Calculate SB\n",
    "SB = np.outer((m1 - m2), (m1 - m2))\n",
    "\n",
    "\n",
    "# Calculate (N1N2/N)Sb\n",
    "expression = (N1 * N2 / N) * SB\n",
    "\n",
    "\n",
    "A = SW + expression\n",
    "A_inv = np.linalg.inv(A)\n",
    "w = np.dot(A_inv, m1 - m2)\n",
    "\n",
    "# Normalize w vector to unit length (direction)\n",
    "w /= np.linalg.norm(w)\n",
    "\n",
    "print(\"Direction of w vector from corrected Equation 1:\")\n",
    "print(w)\n"
   ]
  },
  {
   "cell_type": "code",
   "execution_count": 6,
   "metadata": {},
   "outputs": [
    {
     "data": {
      "text/plain": [
       "'both have opposite signs '"
      ]
     },
     "execution_count": 6,
     "metadata": {},
     "output_type": "execute_result"
    }
   ],
   "source": [
    "'''both have opposite signs '''"
   ]
  },
  {
   "cell_type": "code",
   "execution_count": 44,
   "metadata": {},
   "outputs": [],
   "source": [
    "from sklearn import datasets\n",
    "\n",
    "X, y = datasets.make_blobs(n_samples= 200, n_features= 4, centers = 4, cluster_std= 2, random_state= 100)\n",
    "\n"
   ]
  },
  {
   "cell_type": "code",
   "execution_count": 70,
   "metadata": {},
   "outputs": [
    {
     "name": "stdout",
     "output_type": "stream",
     "text": [
      "Mean vector 0 :  [ 0.67866615 -4.97867298 -1.29679893  6.74684992]\n",
      "Mean vector 1 :  [-9.79749136 -7.35371647  3.30524406  6.85846548]\n",
      "Mean vector 2 :  [-7.05594358  1.4578088   7.96547405 -5.92063367]\n",
      "Mean vector 3 :  [-6.43287841 -8.072347   -5.64148256  9.22435077]\n",
      "Overall mean:  [-5.6519118  -4.73673191  1.08310915  4.22725812]\n"
     ]
    }
   ],
   "source": [
    "mean_vectors =[]\n",
    "for cl in range(0,4):\n",
    "    mean_vectors.append(np.mean(X[y==cl], axis=0))\n",
    "Overall_mean = np.mean(X,axis=0)\n",
    "\n",
    "for i in range(len(mean_vectors)):\n",
    "    print('Mean vector', i,': ', mean_vectors[i])\n",
    "\n",
    "print('Overall mean: ', Overall_mean)"
   ]
  },
  {
   "cell_type": "code",
   "execution_count": 81,
   "metadata": {},
   "outputs": [
    {
     "name": "stdout",
     "output_type": "stream",
     "text": [
      "Within-class scatter:\n",
      "[[ 944.86936777  100.21789181  182.37376817 -187.03507488]\n",
      " [ 100.21789181  824.81439604   -1.16004932   49.53023336]\n",
      " [ 182.37376817   -1.16004932  806.26599896 -136.51799837]\n",
      " [-187.03507488   49.53023336 -136.51799837  906.700513  ]]\n"
     ]
    }
   ],
   "source": [
    "#calculate SW\n",
    "\n",
    "SW = np.zeros((4,4))\n",
    "for cl, mv in zip(range(0,4), mean_vectors):\n",
    "    class_sc_mat = np.zeros((4,4))\n",
    "    for x_ in X[y==cl]:\n",
    "        x_, mv = x_.reshape(4,1), mv.reshape(4,1)\n",
    "        class_sc_mat += (x_-mv).dot((x_-mv).T)\n",
    "    SW += class_sc_mat\n",
    "\n",
    "print('Within-class scatter:')\n",
    "print(SW)"
   ]
  },
  {
   "cell_type": "code",
   "execution_count": 82,
   "metadata": {},
   "outputs": [
    {
     "name": "stdout",
     "output_type": "stream",
     "text": [
      "Between class scatter: \n",
      "[[ 2992.16306127   161.24814615 -1434.48040744   769.39964608]\n",
      " [  161.24814615  2820.29031799  2991.21219433 -4351.26641519]\n",
      " [-1434.48040744  2991.21219433  5159.44631406 -5179.72006171]\n",
      " [  769.39964608 -4351.26641519 -5179.72006171  7061.11189325]]\n"
     ]
    }
   ],
   "source": [
    "#calculate SB\n",
    "\n",
    "SB = np.zeros((4,4))\n",
    "for i, mean_vec in enumerate(mean_vectors):\n",
    "    n = X[y==i,:].shape[0]\n",
    "    mean_vec = mean_vec.reshape(4,1)\n",
    "    overall_mean = Overall_mean.reshape(4,1)\n",
    "    SB += n * (mean_vec - overall_mean).dot((mean_vec - overall_mean).T)\n",
    "\n",
    "print('Between class scatter: ')\n",
    "print(SB)\n"
   ]
  },
  {
   "cell_type": "code",
   "execution_count": 87,
   "metadata": {},
   "outputs": [
    {
     "name": "stdout",
     "output_type": "stream",
     "text": [
      "Eigen values in decreasing order: \n",
      "17.91571396045976\n",
      "3.53643522340268\n",
      "0.9314534781318433\n",
      "2.2710791739625684e-16\n"
     ]
    }
   ],
   "source": [
    "#reduce dimensions by finding eigenvalues and eigenvectors\n",
    "eigenvalues, eigenvectors = np.linalg.eig(np.linalg.inv(SW).dot(SB))\n",
    "eigen_pairs = [(np.abs(eigenvalues[i]),eigenvectors[:,i]) for i in range(len(eigenvalues))]\n",
    "eigen_pairs = sorted(eigen_pairs, key=lambda k: k[0],reverse=True)\n",
    "\n",
    "print('Eigen values in decreasing order: ')\n",
    "for i in eigen_pairs:\n",
    "    print(i[0])"
   ]
  },
  {
   "cell_type": "code",
   "execution_count": 84,
   "metadata": {},
   "outputs": [
    {
     "name": "stdout",
     "output_type": "stream",
     "text": [
      "Eigenvalue 1:  80.04%\n",
      "Eigenvalue 2:  15.80%\n",
      "Eigenvalue 3:  4.16%\n",
      "Eigenvalue 4:  0.00%\n"
     ]
    }
   ],
   "source": [
    "eigenvalues_sum = sum(eigenvalues)\n",
    "for i, j in enumerate(eigen_pairs):\n",
    "    print(\"Eigenvalue {0:}: {1: .2%}\".format (i+1, (j[0]/eigenvalues_sum).real))"
   ]
  },
  {
   "cell_type": "code",
   "execution_count": 86,
   "metadata": {},
   "outputs": [
    {
     "data": {
      "image/png": "[encoded data removed]",
      "text/plain": [
       "<Figure size 700x500 with 1 Axes>"
      ]
     },
     "metadata": {},
     "output_type": "display_data"
    }
   ],
   "source": [
    "import matplotlib.pyplot as plt\n",
    "top_eigenvectors = np.array([eigen_pair[1] for eigen_pair in eigen_pairs[:2]])\n",
    "\n",
    "# Project the data onto the selected LDA dimensions\n",
    "X_lda = X.dot(top_eigenvectors.T)\n",
    "\n",
    "# Visualize the reduced data\n",
    "plt.figure(figsize=(7, 5))\n",
    "\n",
    "\n",
    "for i in np.unique(y):\n",
    "    plt.scatter(X_lda[y == i, 0], X_lda[y == i, 1], label=f'Class {i}')\n",
    "\n",
    " \n",
    "plt.legend(loc='best')\n",
    "plt.title('LDA Projection of Data')\n",
    "plt.grid()\n",
    "plt.show()\n",
    "\n",
    "\n",
    "\n",
    "'''explain quality of the dimensionality reduction'''\n"
   ]
  },
  {
   "cell_type": "code",
   "execution_count": 112,
   "metadata": {},
   "outputs": [
    {
     "name": "stdout",
     "output_type": "stream",
     "text": [
      "Weight Matrix:\n",
      "[[  6.    60.02  -3.11   9.73  16.93]\n",
      " [-68.    17.84  -7.09  12.26  20.27]\n",
      " [  0.     8.88  21.06  11.8  -29.67]\n",
      " [-26.   -13.72   7.72 -92.98  -6.5 ]]\n"
     ]
    }
   ],
   "source": [
    "import numpy as np\n",
    "\n",
    "def perceptron_multi(w,x,y):\n",
    "    num_classes = (len(np.unique(y)))\n",
    "    weight_matrix = np.zeros((num_classes, x.shape[1]+ 1))  # Initialize weight matrix\n",
    "\n",
    "    for class_label in range(num_classes):\n",
    "\n",
    "        # Convert class labels to binary targets (1 for the current class, -1 for others)\n",
    "        binary_y = np.where(y == class_label, 1, -1)\n",
    "        \n",
    "        weight_matrix[class_label] = perceptron_fit(w.copy(), x, binary_y, epochs=1)\n",
    "    \n",
    "    return weight_matrix\n",
    "\n",
    "def step(X):\n",
    "    return int(1) if X>= 0 else int(-1)\n",
    "\n",
    "def perceptron_fit(w,X,Y, epochs):\n",
    "    for epoch in np.arange(0,epochs):\n",
    "        for i in range(0, len(Y)):\n",
    "            h = step(np.dot(np.append(1,X[i]), w))\n",
    "            if h != Y[i]:\n",
    "                error = float(h-Y[i])\n",
    "                w = w -error *(np.append(1, X[i]))\n",
    "    return w\n",
    "\n",
    "# Initialize weight matrix\n",
    "num_features = X.shape[1]\n",
    "num_classes = len(np.unique(y))\n",
    "initial_weights = np.zeros(num_features+1)\n",
    "\n",
    "# Train the multi-class perceptron\n",
    "weight_matrix = perceptron_multi(initial_weights, X, y)\n",
    "\n",
    "# Print the weight matrix\n",
    "print(\"Weight Matrix:\")\n",
    "print(weight_matrix)"
   ]
  },
  {
   "cell_type": "code",
   "execution_count": 121,
   "metadata": {},
   "outputs": [],
   "source": [
    "import numpy as np\n",
    "\n",
    "def multi_step_function(W, x, y, cl):\n",
    "    # Check if the input arrays have the same length\n",
    "    if len(W) != len(x) or len(W) != len(y):\n",
    "        raise ValueError(\"Input arrays must have the same length\")\n",
    "\n",
    "    # Create an empty array to store class IDs\n",
    "    class_ids = []\n",
    "\n",
    "    # Iterate through each point\n",
    "    for i in range(len(W)):\n",
    "        point = (W[i], x[i], y[i])\n",
    "        \n",
    "        # Calculate the Euclidean distance from the point to each reference point\n",
    "        distances = [np.linalg.norm(np.array(point) - np.array(ref_point)) for ref_point in zip(W, x, y)]\n",
    "        \n",
    "        # Find the index of the closest reference point\n",
    "        closest_index = np.argmin(distances)\n",
    "        \n",
    "        # Assign the class ID of the closest reference point\n",
    "        class_id = cl[closest_index]\n",
    "        class_ids.append(class_id)\n",
    "\n",
    "    return class_ids\n",
    "\n",
    "\n"
   ]
  },
  {
   "cell_type": "code",
   "execution_count": 139,
   "metadata": {},
   "outputs": [
    {
     "data": {
      "text/html": [
       "<style>#sk-container-id-4 {color: black;background-color: white;}#sk-container-id-4 pre{padding: 0;}#sk-container-id-4 div.sk-toggleable {background-color: white;}#sk-container-id-4 label.sk-toggleable__label {cursor: pointer;display: block;width: 100%;margin-bottom: 0;padding: 0.3em;box-sizing: border-box;text-align: center;}#sk-container-id-4 label.sk-toggleable__label-arrow:before {content: \"▸\";float: left;margin-right: 0.25em;color: #696969;}#sk-container-id-4 label.sk-toggleable__label-arrow:hover:before {color: black;}#sk-container-id-4 div.sk-estimator:hover label.sk-toggleable__label-arrow:before {color: black;}#sk-container-id-4 div.sk-toggleable__content {max-height: 0;max-width: 0;overflow: hidden;text-align: left;background-color: #f0f8ff;}#sk-container-id-4 div.sk-toggleable__content pre {margin: 0.2em;color: black;border-radius: 0.25em;background-color: #f0f8ff;}#sk-container-id-4 input.sk-toggleable__control:checked~div.sk-toggleable__content {max-height: 200px;max-width: 100%;overflow: auto;}#sk-container-id-4 input.sk-toggleable__control:checked~label.sk-toggleable__label-arrow:before {content: \"▾\";}#sk-container-id-4 div.sk-estimator input.sk-toggleable__control:checked~label.sk-toggleable__label {background-color: #d4ebff;}#sk-container-id-4 div.sk-label input.sk-toggleable__control:checked~label.sk-toggleable__label {background-color: #d4ebff;}#sk-container-id-4 input.sk-hidden--visually {border: 0;clip: rect(1px 1px 1px 1px);clip: rect(1px, 1px, 1px, 1px);height: 1px;margin: -1px;overflow: hidden;padding: 0;position: absolute;width: 1px;}#sk-container-id-4 div.sk-estimator {font-family: monospace;background-color: #f0f8ff;border: 1px dotted black;border-radius: 0.25em;box-sizing: border-box;margin-bottom: 0.5em;}#sk-container-id-4 div.sk-estimator:hover {background-color: #d4ebff;}#sk-container-id-4 div.sk-parallel-item::after {content: \"\";width: 100%;border-bottom: 1px solid gray;flex-grow: 1;}#sk-container-id-4 div.sk-label:hover label.sk-toggleable__label {background-color: #d4ebff;}#sk-container-id-4 div.sk-serial::before {content: \"\";position: absolute;border-left: 1px solid gray;box-sizing: border-box;top: 0;bottom: 0;left: 50%;z-index: 0;}#sk-container-id-4 div.sk-serial {display: flex;flex-direction: column;align-items: center;background-color: white;padding-right: 0.2em;padding-left: 0.2em;position: relative;}#sk-container-id-4 div.sk-item {position: relative;z-index: 1;}#sk-container-id-4 div.sk-parallel {display: flex;align-items: stretch;justify-content: center;background-color: white;position: relative;}#sk-container-id-4 div.sk-item::before, #sk-container-id-4 div.sk-parallel-item::before {content: \"\";position: absolute;border-left: 1px solid gray;box-sizing: border-box;top: 0;bottom: 0;left: 50%;z-index: -1;}#sk-container-id-4 div.sk-parallel-item {display: flex;flex-direction: column;z-index: 1;position: relative;background-color: white;}#sk-container-id-4 div.sk-parallel-item:first-child::after {align-self: flex-end;width: 50%;}#sk-container-id-4 div.sk-parallel-item:last-child::after {align-self: flex-start;width: 50%;}#sk-container-id-4 div.sk-parallel-item:only-child::after {width: 0;}#sk-container-id-4 div.sk-dashed-wrapped {border: 1px dashed gray;margin: 0 0.4em 0.5em 0.4em;box-sizing: border-box;padding-bottom: 0.4em;background-color: white;}#sk-container-id-4 div.sk-label label {font-family: monospace;font-weight: bold;display: inline-block;line-height: 1.2em;}#sk-container-id-4 div.sk-label-container {text-align: center;}#sk-container-id-4 div.sk-container {/* jupyter's `normalize.less` sets `[hidden] { display: none; }` but bootstrap.min.css set `[hidden] { display: none !important; }` so we also need the `!important` here to be able to override the default hidden behavior on the sphinx rendered scikit-learn.org. See: https://github.com/scikit-learn/scikit-learn/issues/21755 */display: inline-block !important;position: relative;}#sk-container-id-4 div.sk-text-repr-fallback {display: none;}</style><div id=\"sk-container-id-4\" class=\"sk-top-container\"><div class=\"sk-text-repr-fallback\"><pre>Ridge()</pre><b>In a Jupyter environment, please rerun this cell to show the HTML representation or trust the notebook. <br />On GitHub, the HTML representation is unable to render, please try loading this page with nbviewer.org.</b></div><div class=\"sk-container\" hidden><div class=\"sk-item\"><div class=\"sk-estimator sk-toggleable\"><input class=\"sk-toggleable__control sk-hidden--visually\" id=\"sk-estimator-id-4\" type=\"checkbox\" checked><label for=\"sk-estimator-id-4\" class=\"sk-toggleable__label sk-toggleable__label-arrow\">Ridge</label><div class=\"sk-toggleable__content\"><pre>Ridge()</pre></div></div></div></div></div>"
      ],
      "text/plain": [
       "Ridge()"
      ]
     },
     "execution_count": 139,
     "metadata": {},
     "output_type": "execute_result"
    }
   ],
   "source": [
    "import pandas as pd\n",
    "from sklearn.linear_model import Ridge\n",
    "from sklearn.model_selection import train_test_split\n",
    "from sklearn.linear_model import LinearRegression\n",
    "from sklearn.preprocessing import StandardScaler\n",
    "ridge = Ridge()\n",
    "\n",
    "data = pd.read_csv('Real estate.csv')\n",
    "split_ratio = 0.75\n",
    "mean = data.mean()\n",
    "std = data.std()\n",
    "\n",
    "# # Standardize the entire dataset (both features and target variable)\n",
    "data = (data - mean) / std\n",
    "\n",
    "\n",
    "num_train_samples = int(split_ratio * len(data))\n",
    "\n",
    "#sluffle the data\n",
    "dataset = data.values\n",
    "\n",
    "np.random.shuffle(dataset)\n",
    "# Split the data into training and testing sets\n",
    "train_data = dataset[:num_train_samples]\n",
    "test_data = dataset[num_train_samples:]\n",
    "\n",
    "X_train = train_data[:, 1:-1]  # Exclude \"no\" and \"y\" columns\n",
    "y_train = train_data[:, -1]\n",
    "\n",
    "X_test = test_data[:, 1:-1]  # Exclude \"no\" and \"y\" columns\n",
    "y_test = test_data[:, -1]\n",
    "\n",
    "\n",
    "ridge_model = Ridge()  \n",
    "ridge_model.fit(X_train, y_train)\n"
   ]
  },
  {
   "cell_type": "code",
   "execution_count": 142,
   "metadata": {},
   "outputs": [],
   "source": [
    "import numpy as np\n",
    "import pandas as pd\n",
    "\n",
    "def my_ridge(X, y, η, iterations, λ):\n",
    "\n",
    "    \n",
    "    # Initialize weights (coefficients) with zeros\n",
    "    w = np.zeros(X.shape[1])\n",
    "    \n",
    "    N = X.shape[0]\n",
    "    \n",
    "    for _ in range(iterations):\n",
    "        # Calculate predictions\n",
    "        predictions = np.dot(X, w)\n",
    "        \n",
    "        # Calculate the gradient of the ridge regression loss with respect to weights\n",
    "        gradient = -(1/N) * np.dot(X.T, (y - predictions)) + (λ/N) * w\n",
    "        \n",
    "        # Update weights using the gradient and learning rate η\n",
    "        w -= η * gradient\n",
    "    \n",
    "    return w"
   ]
  },
  {
   "cell_type": "code",
   "execution_count": 148,
   "metadata": {},
   "outputs": [
    {
     "name": "stdout",
     "output_type": "stream",
     "text": [
      "Mean Squared Error: 0.43863517294978843\n",
      "Weights (Coefficients):\n",
      "[ 0.1  -0.25 -0.42  0.23  0.23 -0.01]\n"
     ]
    }
   ],
   "source": [
    "η = 0.1          # Learning rate\n",
    "iterations = 1000  # Number of iterations\n",
    "λ = 0       \n",
    "\n",
    "\n",
    "# Fit the Ridge regression model\n",
    "weights = my_ridge(X_train, y_train, η, iterations, λ)\n",
    "\n",
    "# Make predictions on the training data\n",
    "predictions = np.dot(X_train, weights)\n",
    "\n",
    "# Calculate Mean Squared Error (MSE)\n",
    "mse = np.mean((predictions - y_train)**2)\n",
    "\n",
    "# Print the MSE and weights\n",
    "print(f\"Mean Squared Error: {mse}\")\n",
    "print(\"Weights (Coefficients):\")\n",
    "print(weights)"
   ]
  }
 ],
 "metadata": {
  "kernelspec": {
   "display_name": "base",
   "language": "python",
   "name": "python3"
  },
  "language_info": {
   "codemirror_mode": {
    "name": "ipython",
    "version": 3
   },
   "file_extension": ".py",
   "mimetype": "text/x-python",
   "name": "python",
   "nbconvert_exporter": "python",
   "pygments_lexer": "ipython3",
   "version": "3.11.3"
  },
  "orig_nbformat": 4
 },
 "nbformat": 4,
 "nbformat_minor": 2
}
